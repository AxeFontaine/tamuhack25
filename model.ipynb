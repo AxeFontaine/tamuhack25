{
 "cells": [
  {
   "cell_type": "markdown",
   "metadata": {},
   "source": [
    "These are useful imports for training the model."
   ]
  },
  {
   "cell_type": "code",
   "execution_count": 332,
   "metadata": {},
   "outputs": [],
   "source": [
    "import os\n",
    "import pandas as pd\n",
    "import numpy as np\n",
    "import tensorflow as tf\n",
    "\n",
    "from tensorflow.keras.models import Sequential\n",
    "from tensorflow.keras.layers import LSTM, Dense, Dropout, Masking"
   ]
  },
  {
   "cell_type": "code",
   "execution_count": 333,
   "metadata": {},
   "outputs": [
    {
     "data": {
      "text/plain": [
       "[]"
      ]
     },
     "execution_count": 333,
     "metadata": {},
     "output_type": "execute_result"
    }
   ],
   "source": [
    "import tensorflow as tf\n",
    "\n",
    "gpus = tf.config.list_physical_devices('GPU')\n",
    "\n",
    "gpus"
   ]
  },
  {
   "cell_type": "markdown",
   "metadata": {},
   "source": [
    "Making sure that the directories with the data are all present."
   ]
  },
  {
   "cell_type": "code",
   "execution_count": 334,
   "metadata": {},
   "outputs": [
    {
     "name": "stdout",
     "output_type": "stream",
     "text": [
      "a: 300\n",
      "b: 300\n",
      "c: 300\n",
      "d: 300\n",
      "e: 300\n",
      "f: 300\n",
      "g: 300\n",
      "h: 300\n",
      "i: 300\n",
      "k: 300\n",
      "l: 300\n",
      "m: 300\n",
      "n: 300\n",
      "o: 300\n",
      "p: 300\n",
      "q: 300\n",
      "r: 300\n",
      "s: 300\n",
      "t: 300\n",
      "u: 300\n",
      "v: 300\n",
      "w: 300\n",
      "x: 300\n",
      "y: 300\n"
     ]
    }
   ],
   "source": [
    "letters = os.listdir(\"letters\")\n",
    "\n",
    "for letter in letters:\n",
    "    print(f\"{letter}: {len(os.listdir(f'letters/{letter}'))}\")\n"
   ]
  },
  {
   "cell_type": "code",
   "execution_count": 335,
   "metadata": {},
   "outputs": [
    {
     "data": {
      "text/plain": [
       "['a_0.parquet',\n",
       " 'a_1.parquet',\n",
       " 'a_10.parquet',\n",
       " 'a_100.parquet',\n",
       " 'a_101.parquet',\n",
       " 'a_102.parquet',\n",
       " 'a_103.parquet',\n",
       " 'a_104.parquet',\n",
       " 'a_105.parquet',\n",
       " 'a_106.parquet',\n",
       " 'a_107.parquet',\n",
       " 'a_108.parquet',\n",
       " 'a_109.parquet',\n",
       " 'a_11.parquet',\n",
       " 'a_110.parquet',\n",
       " 'a_111.parquet',\n",
       " 'a_112.parquet',\n",
       " 'a_113.parquet',\n",
       " 'a_114.parquet',\n",
       " 'a_115.parquet',\n",
       " 'a_116.parquet',\n",
       " 'a_117.parquet',\n",
       " 'a_118.parquet',\n",
       " 'a_119.parquet',\n",
       " 'a_12.parquet',\n",
       " 'a_120.parquet',\n",
       " 'a_121.parquet',\n",
       " 'a_122.parquet',\n",
       " 'a_123.parquet',\n",
       " 'a_124.parquet',\n",
       " 'a_125.parquet',\n",
       " 'a_126.parquet',\n",
       " 'a_127.parquet',\n",
       " 'a_128.parquet',\n",
       " 'a_129.parquet',\n",
       " 'a_13.parquet',\n",
       " 'a_130.parquet',\n",
       " 'a_131.parquet',\n",
       " 'a_132.parquet',\n",
       " 'a_133.parquet',\n",
       " 'a_134.parquet',\n",
       " 'a_135.parquet',\n",
       " 'a_136.parquet',\n",
       " 'a_137.parquet',\n",
       " 'a_138.parquet',\n",
       " 'a_139.parquet',\n",
       " 'a_14.parquet',\n",
       " 'a_140.parquet',\n",
       " 'a_141.parquet',\n",
       " 'a_142.parquet',\n",
       " 'a_143.parquet',\n",
       " 'a_144.parquet',\n",
       " 'a_145.parquet',\n",
       " 'a_146.parquet',\n",
       " 'a_147.parquet',\n",
       " 'a_148.parquet',\n",
       " 'a_149.parquet',\n",
       " 'a_15.parquet',\n",
       " 'a_150.parquet',\n",
       " 'a_151.parquet',\n",
       " 'a_152.parquet',\n",
       " 'a_153.parquet',\n",
       " 'a_154.parquet',\n",
       " 'a_155.parquet',\n",
       " 'a_156.parquet',\n",
       " 'a_157.parquet',\n",
       " 'a_158.parquet',\n",
       " 'a_159.parquet',\n",
       " 'a_16.parquet',\n",
       " 'a_160.parquet',\n",
       " 'a_161.parquet',\n",
       " 'a_162.parquet',\n",
       " 'a_163.parquet',\n",
       " 'a_164.parquet',\n",
       " 'a_165.parquet',\n",
       " 'a_166.parquet',\n",
       " 'a_167.parquet',\n",
       " 'a_168.parquet',\n",
       " 'a_169.parquet',\n",
       " 'a_17.parquet',\n",
       " 'a_170.parquet',\n",
       " 'a_171.parquet',\n",
       " 'a_172.parquet',\n",
       " 'a_173.parquet',\n",
       " 'a_174.parquet',\n",
       " 'a_175.parquet',\n",
       " 'a_176.parquet',\n",
       " 'a_177.parquet',\n",
       " 'a_178.parquet',\n",
       " 'a_179.parquet',\n",
       " 'a_18.parquet',\n",
       " 'a_180.parquet',\n",
       " 'a_181.parquet',\n",
       " 'a_182.parquet',\n",
       " 'a_183.parquet',\n",
       " 'a_184.parquet',\n",
       " 'a_185.parquet',\n",
       " 'a_186.parquet',\n",
       " 'a_187.parquet',\n",
       " 'a_188.parquet',\n",
       " 'a_189.parquet',\n",
       " 'a_19.parquet',\n",
       " 'a_190.parquet',\n",
       " 'a_191.parquet',\n",
       " 'a_192.parquet',\n",
       " 'a_193.parquet',\n",
       " 'a_194.parquet',\n",
       " 'a_195.parquet',\n",
       " 'a_196.parquet',\n",
       " 'a_197.parquet',\n",
       " 'a_198.parquet',\n",
       " 'a_199.parquet',\n",
       " 'a_2.parquet',\n",
       " 'a_20.parquet',\n",
       " 'a_200.parquet',\n",
       " 'a_201.parquet',\n",
       " 'a_202.parquet',\n",
       " 'a_203.parquet',\n",
       " 'a_204.parquet',\n",
       " 'a_205.parquet',\n",
       " 'a_206.parquet',\n",
       " 'a_207.parquet',\n",
       " 'a_208.parquet',\n",
       " 'a_209.parquet',\n",
       " 'a_21.parquet',\n",
       " 'a_210.parquet',\n",
       " 'a_211.parquet',\n",
       " 'a_212.parquet',\n",
       " 'a_213.parquet',\n",
       " 'a_214.parquet',\n",
       " 'a_215.parquet',\n",
       " 'a_216.parquet',\n",
       " 'a_217.parquet',\n",
       " 'a_218.parquet',\n",
       " 'a_219.parquet',\n",
       " 'a_22.parquet',\n",
       " 'a_220.parquet',\n",
       " 'a_221.parquet',\n",
       " 'a_222.parquet',\n",
       " 'a_223.parquet',\n",
       " 'a_224.parquet',\n",
       " 'a_225.parquet',\n",
       " 'a_226.parquet',\n",
       " 'a_227.parquet',\n",
       " 'a_228.parquet',\n",
       " 'a_229.parquet',\n",
       " 'a_23.parquet',\n",
       " 'a_230.parquet',\n",
       " 'a_231.parquet',\n",
       " 'a_232.parquet',\n",
       " 'a_233.parquet',\n",
       " 'a_234.parquet',\n",
       " 'a_235.parquet',\n",
       " 'a_236.parquet',\n",
       " 'a_237.parquet',\n",
       " 'a_238.parquet',\n",
       " 'a_239.parquet',\n",
       " 'a_24.parquet',\n",
       " 'a_240.parquet',\n",
       " 'a_241.parquet',\n",
       " 'a_242.parquet',\n",
       " 'a_243.parquet',\n",
       " 'a_244.parquet',\n",
       " 'a_245.parquet',\n",
       " 'a_246.parquet',\n",
       " 'a_247.parquet',\n",
       " 'a_248.parquet',\n",
       " 'a_249.parquet',\n",
       " 'a_25.parquet',\n",
       " 'a_250.parquet',\n",
       " 'a_251.parquet',\n",
       " 'a_252.parquet',\n",
       " 'a_253.parquet',\n",
       " 'a_254.parquet',\n",
       " 'a_255.parquet',\n",
       " 'a_256.parquet',\n",
       " 'a_257.parquet',\n",
       " 'a_258.parquet',\n",
       " 'a_259.parquet',\n",
       " 'a_26.parquet',\n",
       " 'a_260.parquet',\n",
       " 'a_261.parquet',\n",
       " 'a_262.parquet',\n",
       " 'a_263.parquet',\n",
       " 'a_264.parquet',\n",
       " 'a_265.parquet',\n",
       " 'a_266.parquet',\n",
       " 'a_267.parquet',\n",
       " 'a_268.parquet',\n",
       " 'a_269.parquet',\n",
       " 'a_27.parquet',\n",
       " 'a_270.parquet',\n",
       " 'a_271.parquet',\n",
       " 'a_272.parquet',\n",
       " 'a_273.parquet',\n",
       " 'a_274.parquet',\n",
       " 'a_275.parquet',\n",
       " 'a_276.parquet',\n",
       " 'a_277.parquet',\n",
       " 'a_278.parquet',\n",
       " 'a_279.parquet',\n",
       " 'a_28.parquet',\n",
       " 'a_280.parquet',\n",
       " 'a_281.parquet',\n",
       " 'a_282.parquet',\n",
       " 'a_283.parquet',\n",
       " 'a_284.parquet',\n",
       " 'a_285.parquet',\n",
       " 'a_286.parquet',\n",
       " 'a_287.parquet',\n",
       " 'a_288.parquet',\n",
       " 'a_289.parquet',\n",
       " 'a_29.parquet',\n",
       " 'a_290.parquet',\n",
       " 'a_291.parquet',\n",
       " 'a_292.parquet',\n",
       " 'a_293.parquet',\n",
       " 'a_294.parquet',\n",
       " 'a_295.parquet',\n",
       " 'a_296.parquet',\n",
       " 'a_297.parquet',\n",
       " 'a_298.parquet',\n",
       " 'a_299.parquet',\n",
       " 'a_3.parquet',\n",
       " 'a_30.parquet',\n",
       " 'a_31.parquet',\n",
       " 'a_32.parquet',\n",
       " 'a_33.parquet',\n",
       " 'a_34.parquet',\n",
       " 'a_35.parquet',\n",
       " 'a_36.parquet',\n",
       " 'a_37.parquet',\n",
       " 'a_38.parquet',\n",
       " 'a_39.parquet',\n",
       " 'a_4.parquet',\n",
       " 'a_40.parquet',\n",
       " 'a_41.parquet',\n",
       " 'a_42.parquet',\n",
       " 'a_43.parquet',\n",
       " 'a_44.parquet',\n",
       " 'a_45.parquet',\n",
       " 'a_46.parquet',\n",
       " 'a_47.parquet',\n",
       " 'a_48.parquet',\n",
       " 'a_49.parquet',\n",
       " 'a_5.parquet',\n",
       " 'a_50.parquet',\n",
       " 'a_51.parquet',\n",
       " 'a_52.parquet',\n",
       " 'a_53.parquet',\n",
       " 'a_54.parquet',\n",
       " 'a_55.parquet',\n",
       " 'a_56.parquet',\n",
       " 'a_57.parquet',\n",
       " 'a_58.parquet',\n",
       " 'a_59.parquet',\n",
       " 'a_6.parquet',\n",
       " 'a_60.parquet',\n",
       " 'a_61.parquet',\n",
       " 'a_62.parquet',\n",
       " 'a_63.parquet',\n",
       " 'a_64.parquet',\n",
       " 'a_65.parquet',\n",
       " 'a_66.parquet',\n",
       " 'a_67.parquet',\n",
       " 'a_68.parquet',\n",
       " 'a_69.parquet',\n",
       " 'a_7.parquet',\n",
       " 'a_70.parquet',\n",
       " 'a_71.parquet',\n",
       " 'a_72.parquet',\n",
       " 'a_73.parquet',\n",
       " 'a_74.parquet',\n",
       " 'a_75.parquet',\n",
       " 'a_76.parquet',\n",
       " 'a_77.parquet',\n",
       " 'a_78.parquet',\n",
       " 'a_79.parquet',\n",
       " 'a_8.parquet',\n",
       " 'a_80.parquet',\n",
       " 'a_81.parquet',\n",
       " 'a_82.parquet',\n",
       " 'a_83.parquet',\n",
       " 'a_84.parquet',\n",
       " 'a_85.parquet',\n",
       " 'a_86.parquet',\n",
       " 'a_87.parquet',\n",
       " 'a_88.parquet',\n",
       " 'a_89.parquet',\n",
       " 'a_9.parquet',\n",
       " 'a_90.parquet',\n",
       " 'a_91.parquet',\n",
       " 'a_92.parquet',\n",
       " 'a_93.parquet',\n",
       " 'a_94.parquet',\n",
       " 'a_95.parquet',\n",
       " 'a_96.parquet',\n",
       " 'a_97.parquet',\n",
       " 'a_98.parquet',\n",
       " 'a_99.parquet']"
      ]
     },
     "execution_count": 335,
     "metadata": {},
     "output_type": "execute_result"
    }
   ],
   "source": [
    "file_names = os.listdir(\"letters/a\")\n",
    "\n",
    "\n",
    "file_names"
   ]
  },
  {
   "cell_type": "markdown",
   "metadata": {},
   "source": [
    "Converting the parquet files to dataframes and doing some preprocessing by removing the pose and face data and the row_id column. Only the hand data is kept. NaN values are converted to -1. The sign column is added to the dataframe. The type column is encoded to 0 or 1 for left and right hand respectively. The frame column is normalized to start at 0 and the dataframe is limited to 100 frames."
   ]
  },
  {
   "cell_type": "code",
   "execution_count": 336,
   "metadata": {},
   "outputs": [
    {
     "data": {
      "text/html": [
       "<div>\n",
       "<style scoped>\n",
       "    .dataframe tbody tr th:only-of-type {\n",
       "        vertical-align: middle;\n",
       "    }\n",
       "\n",
       "    .dataframe tbody tr th {\n",
       "        vertical-align: top;\n",
       "    }\n",
       "\n",
       "    .dataframe thead th {\n",
       "        text-align: right;\n",
       "    }\n",
       "</style>\n",
       "<table border=\"1\" class=\"dataframe\">\n",
       "  <thead>\n",
       "    <tr style=\"text-align: right;\">\n",
       "      <th></th>\n",
       "      <th>0</th>\n",
       "      <th>1</th>\n",
       "      <th>2</th>\n",
       "      <th>3</th>\n",
       "      <th>4</th>\n",
       "      <th>5</th>\n",
       "      <th>6</th>\n",
       "      <th>7</th>\n",
       "      <th>8</th>\n",
       "      <th>9</th>\n",
       "      <th>...</th>\n",
       "      <th>33</th>\n",
       "      <th>34</th>\n",
       "      <th>35</th>\n",
       "      <th>36</th>\n",
       "      <th>37</th>\n",
       "      <th>38</th>\n",
       "      <th>39</th>\n",
       "      <th>40</th>\n",
       "      <th>41</th>\n",
       "      <th>sign</th>\n",
       "    </tr>\n",
       "  </thead>\n",
       "  <tbody>\n",
       "    <tr>\n",
       "      <th>Right</th>\n",
       "      <td>0.726712</td>\n",
       "      <td>0.74308</td>\n",
       "      <td>0.670479</td>\n",
       "      <td>0.726974</td>\n",
       "      <td>0.616503</td>\n",
       "      <td>0.657779</td>\n",
       "      <td>0.588644</td>\n",
       "      <td>0.589678</td>\n",
       "      <td>0.591568</td>\n",
       "      <td>0.533896</td>\n",
       "      <td>...</td>\n",
       "      <td>0.622846</td>\n",
       "      <td>0.753058</td>\n",
       "      <td>0.559566</td>\n",
       "      <td>0.741546</td>\n",
       "      <td>0.570722</td>\n",
       "      <td>0.737008</td>\n",
       "      <td>0.618766</td>\n",
       "      <td>0.740743</td>\n",
       "      <td>0.616024</td>\n",
       "      <td>0</td>\n",
       "    </tr>\n",
       "  </tbody>\n",
       "</table>\n",
       "<p>1 rows × 43 columns</p>\n",
       "</div>"
      ],
      "text/plain": [
       "              0        1         2         3         4         5         6  \\\n",
       "Right  0.726712  0.74308  0.670479  0.726974  0.616503  0.657779  0.588644   \n",
       "\n",
       "              7         8         9  ...        33        34        35  \\\n",
       "Right  0.589678  0.591568  0.533896  ...  0.622846  0.753058  0.559566   \n",
       "\n",
       "             36        37        38        39        40        41  sign  \n",
       "Right  0.741546  0.570722  0.737008  0.618766  0.740743  0.616024     0  \n",
       "\n",
       "[1 rows x 43 columns]"
      ]
     },
     "execution_count": 336,
     "metadata": {},
     "output_type": "execute_result"
    }
   ],
   "source": [
    "dataframes = []\n",
    "\n",
    "for letter in letters:\n",
    "    num_of_files = min(300, len(os.listdir(f'letters/{letter}')))\n",
    "    for file in range(num_of_files):\n",
    "        df = pd.read_parquet(f'letters/{letter}/{letter}_{file}.parquet')\n",
    "        df.fillna(0, inplace=True)\n",
    "        df[\"sign\"] = letters.index(letter)\n",
    "        dataframes.append(df)\n",
    "\n",
    "dataframes[0]"
   ]
  },
  {
   "cell_type": "markdown",
   "metadata": {},
   "source": [
    "A peek at the distribution of frames per dataframe can tell me if I need to pad or cut off the frames."
   ]
  },
  {
   "cell_type": "code",
   "execution_count": 337,
   "metadata": {},
   "outputs": [
    {
     "data": {
      "image/png": "[encoded data removed]",
      "text/plain": [
       "<Figure size 640x480 with 1 Axes>"
      ]
     },
     "metadata": {},
     "output_type": "display_data"
    }
   ],
   "source": [
    "import matplotlib.pyplot as plt\n",
    "\n",
    "# Get distribution of frames per dataframe\n",
    "frame_counts = [df.shape[1] for df in dataframes]\n",
    "\n",
    "# Graph distribution\n",
    "plt.hist(frame_counts, bins=range(min(frame_counts), max(frame_counts) + 1))\n",
    "plt.xlabel(\"Number of Frames\")\n",
    "plt.ylabel(\"Frequency\")\n",
    "plt.title(\"Distribution of Frames per Dataframe\")\n",
    "plt.show()\n"
   ]
  },
  {
   "cell_type": "markdown",
   "metadata": {},
   "source": [
    "Padding will be done up to the 40th frame. All frames past 40 (#39 since they are zero-indexed) will be removed."
   ]
  },
  {
   "cell_type": "code",
   "execution_count": 338,
   "metadata": {},
   "outputs": [
    {
     "data": {
      "text/plain": [
       "(85, 43)"
      ]
     },
     "execution_count": 338,
     "metadata": {},
     "output_type": "execute_result"
    }
   ],
   "source": [
    "final_max_length = max([df.shape[1] for df in dataframes])\n",
    "final_min_length = min([df.shape[1] for df in dataframes])\n",
    "\n",
    "final_max_length, final_min_length"
   ]
  },
  {
   "cell_type": "code",
   "execution_count": 339,
   "metadata": {},
   "outputs": [],
   "source": [
    "dataframes = [df for df in dataframes if df.shape[1] == 43]\n"
   ]
  },
  {
   "cell_type": "code",
   "execution_count": 340,
   "metadata": {},
   "outputs": [
    {
     "data": {
      "text/plain": [
       "(43, 43)"
      ]
     },
     "execution_count": 340,
     "metadata": {},
     "output_type": "execute_result"
    }
   ],
   "source": [
    "final_max_length = max([df.shape[1] for df in dataframes])\n",
    "final_min_length = min([df.shape[1] for df in dataframes])\n",
    "\n",
    "final_max_length, final_min_length"
   ]
  },
  {
   "cell_type": "code",
   "execution_count": 341,
   "metadata": {},
   "outputs": [
    {
     "data": {
      "text/plain": [
       ""
      ]
     },
     "execution_count": 341,
     "metadata": {},
     "output_type": "execute_result"
    }
   ],
   "source": [
    "dataframes"
   ]
  },
  {
   "cell_type": "markdown",
   "metadata": {},
   "source": [
    "This flattens the dataframes into a 2D array of features where each row is the frame info consisting of the x, y, and z coordinates of the 42 landmarks."
   ]
  },
  {
   "cell_type": "code",
   "execution_count": 342,
   "metadata": {},
   "outputs": [
    {
     "data": {
      "text/plain": [
       "((7106, 42), (7106,))"
      ]
     },
     "execution_count": 342,
     "metadata": {},
     "output_type": "execute_result"
    }
   ],
   "source": [
    "# Extract X and y\n",
    "X = [df.iloc[:, :-1].to_numpy().flatten() for df in dataframes]  # Features (all columns except the last)\n",
    "y = [df.iloc[:, -1].item() for df in dataframes]  # Labels (last column)\n",
    "\n",
    "# Convert to NumPy arrays for machine learning tasks\n",
    "X = np.array(X)\n",
    "y = np.array(y)\n",
    "\n",
    "X.shape, y.shape\n"
   ]
  },
  {
   "cell_type": "markdown",
   "metadata": {},
   "source": [
    "This is the basic model being used. It is a simple LSTM with a dense layer for classification."
   ]
  },
  {
   "cell_type": "code",
   "execution_count": 343,
   "metadata": {},
   "outputs": [
    {
     "name": "stdout",
     "output_type": "stream",
     "text": [
      "Model: \"sequential_36\"\n",
      "_________________________________________________________________\n",
      " Layer (type)                Output Shape              Param #   \n",
      "=================================================================\n",
      " dense_56 (Dense)            (None, 128)               5504      \n",
      "                                                                 \n",
      " dense_57 (Dense)            (None, 24)                3096      \n",
      "                                                                 \n",
      "=================================================================\n",
      "Total params: 8600 (33.59 KB)\n",
      "Trainable params: 8600 (33.59 KB)\n",
      "Non-trainable params: 0 (0.00 Byte)\n",
      "_________________________________________________________________\n"
     ]
    }
   ],
   "source": [
    "\n",
    "model = Sequential([\n",
    "    Dense(128, activation='relu', input_shape=(X.shape[1], )),\n",
    "    Dense(len(letters), activation='softmax')\n",
    "])\n",
    "\n",
    "\n",
    "# Compile the model\n",
    "model.compile(optimizer='adam',\n",
    "              loss='sparse_categorical_crossentropy',  # Or 'categorical_crossentropy' for one-hot labels\n",
    "              metrics=['accuracy'])\n",
    "\n",
    "# Display the model summary\n",
    "model.summary()\n"
   ]
  },
  {
   "cell_type": "markdown",
   "metadata": {},
   "source": [
    "Creating the training and validation data."
   ]
  },
  {
   "cell_type": "code",
   "execution_count": 344,
   "metadata": {},
   "outputs": [],
   "source": [
    "from sklearn.model_selection import train_test_split\n",
    "\n",
    "X_train, X_val, y_train, y_val = train_test_split(X, y, test_size=0.2, random_state=602, shuffle=True)\n"
   ]
  },
  {
   "cell_type": "markdown",
   "metadata": {},
   "source": [
    "Training."
   ]
  },
  {
   "cell_type": "code",
   "execution_count": 345,
   "metadata": {},
   "outputs": [
    {
     "name": "stdout",
     "output_type": "stream",
     "text": [
      "Epoch 1/100\n",
      "711/711 [==============================] - 1s 1ms/step - loss: 3.0244 - accuracy: 0.1348 - val_loss: 2.8141 - val_accuracy: 0.2145\n",
      "Epoch 2/100\n",
      "711/711 [==============================] - 1s 1ms/step - loss: 2.4719 - accuracy: 0.3628 - val_loss: 2.1290 - val_accuracy: 0.4810\n",
      "Epoch 3/100\n",
      "711/711 [==============================] - 1s 2ms/step - loss: 1.8037 - accuracy: 0.5790 - val_loss: 1.5506 - val_accuracy: 0.6287\n",
      "Epoch 4/100\n",
      "711/711 [==============================] - 1s 1ms/step - loss: 1.3177 - accuracy: 0.7233 - val_loss: 1.1632 - val_accuracy: 0.7257\n",
      "Epoch 5/100\n",
      "711/711 [==============================] - 1s 1ms/step - loss: 1.0047 - accuracy: 0.8031 - val_loss: 0.9046 - val_accuracy: 0.8601\n",
      "Epoch 6/100\n",
      "711/711 [==============================] - 1s 1ms/step - loss: 0.7959 - accuracy: 0.8684 - val_loss: 0.7446 - val_accuracy: 0.8537\n",
      "Epoch 7/100\n",
      "711/711 [==============================] - 1s 1ms/step - loss: 0.6521 - accuracy: 0.8922 - val_loss: 0.6038 - val_accuracy: 0.9093\n",
      "Epoch 8/100\n",
      "711/711 [==============================] - 1s 1ms/step - loss: 0.5406 - accuracy: 0.9136 - val_loss: 0.5230 - val_accuracy: 0.8952\n",
      "Epoch 9/100\n",
      "711/711 [==============================] - 1s 1ms/step - loss: 0.4584 - accuracy: 0.9243 - val_loss: 0.4210 - val_accuracy: 0.9543\n",
      "Epoch 10/100\n",
      "711/711 [==============================] - 1s 1ms/step - loss: 0.3929 - accuracy: 0.9386 - val_loss: 0.3630 - val_accuracy: 0.9529\n",
      "Epoch 11/100\n",
      "711/711 [==============================] - 1s 1ms/step - loss: 0.3395 - accuracy: 0.9495 - val_loss: 0.3281 - val_accuracy: 0.9620\n",
      "Epoch 12/100\n",
      "711/711 [==============================] - 1s 1ms/step - loss: 0.2981 - accuracy: 0.9513 - val_loss: 0.2906 - val_accuracy: 0.9691\n",
      "Epoch 13/100\n",
      "711/711 [==============================] - 1s 1ms/step - loss: 0.2615 - accuracy: 0.9574 - val_loss: 0.2785 - val_accuracy: 0.9416\n",
      "Epoch 14/100\n",
      "711/711 [==============================] - 1s 1ms/step - loss: 0.2347 - accuracy: 0.9599 - val_loss: 0.2217 - val_accuracy: 0.9719\n",
      "Epoch 15/100\n",
      "711/711 [==============================] - 1s 1ms/step - loss: 0.2086 - accuracy: 0.9669 - val_loss: 0.2328 - val_accuracy: 0.9290\n",
      "Epoch 16/100\n",
      "711/711 [==============================] - 1s 1ms/step - loss: 0.1878 - accuracy: 0.9667 - val_loss: 0.1832 - val_accuracy: 0.9691\n",
      "Epoch 17/100\n",
      "711/711 [==============================] - 1s 1ms/step - loss: 0.1705 - accuracy: 0.9726 - val_loss: 0.1763 - val_accuracy: 0.9747\n",
      "Epoch 18/100\n",
      "711/711 [==============================] - 1s 980us/step - loss: 0.1543 - accuracy: 0.9733 - val_loss: 0.1593 - val_accuracy: 0.9733\n",
      "Epoch 19/100\n",
      "711/711 [==============================] - 1s 1ms/step - loss: 0.1409 - accuracy: 0.9759 - val_loss: 0.1364 - val_accuracy: 0.9691\n",
      "Epoch 20/100\n",
      "711/711 [==============================] - 1s 1ms/step - loss: 0.1254 - accuracy: 0.9835 - val_loss: 0.1203 - val_accuracy: 0.9866\n",
      "Epoch 21/100\n",
      "711/711 [==============================] - 1s 1ms/step - loss: 0.1150 - accuracy: 0.9821 - val_loss: 0.1215 - val_accuracy: 0.9852\n",
      "Epoch 22/100\n",
      "711/711 [==============================] - 1s 1ms/step - loss: 0.1056 - accuracy: 0.9877 - val_loss: 0.1149 - val_accuracy: 0.9951\n",
      "Epoch 23/100\n",
      "711/711 [==============================] - 1s 1ms/step - loss: 0.0972 - accuracy: 0.9856 - val_loss: 0.0884 - val_accuracy: 0.9965\n",
      "Epoch 24/100\n",
      "711/711 [==============================] - 1s 1ms/step - loss: 0.0891 - accuracy: 0.9898 - val_loss: 0.0943 - val_accuracy: 0.9909\n",
      "Epoch 25/100\n",
      "711/711 [==============================] - 1s 1ms/step - loss: 0.0817 - accuracy: 0.9916 - val_loss: 0.1070 - val_accuracy: 0.9895\n",
      "Epoch 26/100\n",
      "711/711 [==============================] - 1s 1ms/step - loss: 0.0740 - accuracy: 0.9917 - val_loss: 0.0683 - val_accuracy: 0.9993\n",
      "Epoch 27/100\n",
      "711/711 [==============================] - 1s 1ms/step - loss: 0.0694 - accuracy: 0.9938 - val_loss: 0.0680 - val_accuracy: 0.9979\n",
      "Epoch 28/100\n",
      "711/711 [==============================] - 1s 1ms/step - loss: 0.0629 - accuracy: 0.9947 - val_loss: 0.0547 - val_accuracy: 1.0000\n",
      "Epoch 29/100\n",
      "711/711 [==============================] - 1s 1ms/step - loss: 0.0572 - accuracy: 0.9967 - val_loss: 0.0810 - val_accuracy: 0.9873\n",
      "Epoch 30/100\n",
      "711/711 [==============================] - 1s 1ms/step - loss: 0.0525 - accuracy: 0.9968 - val_loss: 0.0701 - val_accuracy: 0.9684\n",
      "Epoch 31/100\n",
      "711/711 [==============================] - 1s 1ms/step - loss: 0.0492 - accuracy: 0.9965 - val_loss: 0.0434 - val_accuracy: 1.0000\n",
      "Epoch 32/100\n",
      "711/711 [==============================] - 1s 1ms/step - loss: 0.0446 - accuracy: 0.9974 - val_loss: 0.0390 - val_accuracy: 1.0000\n",
      "Epoch 33/100\n",
      "711/711 [==============================] - 1s 1ms/step - loss: 0.0390 - accuracy: 0.9982 - val_loss: 0.0595 - val_accuracy: 0.9909\n",
      "Epoch 34/100\n",
      "711/711 [==============================] - 1s 1ms/step - loss: 0.0386 - accuracy: 0.9982 - val_loss: 0.0313 - val_accuracy: 1.0000\n",
      "Epoch 35/100\n",
      "711/711 [==============================] - 1s 1ms/step - loss: 0.0353 - accuracy: 0.9977 - val_loss: 0.0296 - val_accuracy: 1.0000\n",
      "Epoch 36/100\n",
      "711/711 [==============================] - 1s 1ms/step - loss: 0.0311 - accuracy: 0.9986 - val_loss: 0.0333 - val_accuracy: 0.9972\n",
      "Epoch 37/100\n",
      "711/711 [==============================] - 1s 1ms/step - loss: 0.0286 - accuracy: 0.9986 - val_loss: 0.0435 - val_accuracy: 0.9937\n",
      "Epoch 38/100\n",
      "711/711 [==============================] - 1s 1ms/step - loss: 0.0256 - accuracy: 0.9989 - val_loss: 0.0249 - val_accuracy: 1.0000\n",
      "Epoch 39/100\n",
      "711/711 [==============================] - 1s 1ms/step - loss: 0.0277 - accuracy: 0.9972 - val_loss: 0.0208 - val_accuracy: 1.0000\n",
      "Epoch 40/100\n",
      "711/711 [==============================] - 1s 1ms/step - loss: 0.0231 - accuracy: 0.9981 - val_loss: 0.0292 - val_accuracy: 0.9951\n",
      "Epoch 41/100\n",
      "711/711 [==============================] - 1s 1ms/step - loss: 0.0204 - accuracy: 0.9988 - val_loss: 0.0210 - val_accuracy: 0.9993\n",
      "Epoch 42/100\n",
      "711/711 [==============================] - 1s 1ms/step - loss: 0.0203 - accuracy: 0.9988 - val_loss: 0.0138 - val_accuracy: 1.0000\n",
      "Epoch 43/100\n",
      "711/711 [==============================] - 1s 1ms/step - loss: 0.0164 - accuracy: 0.9998 - val_loss: 0.0150 - val_accuracy: 1.0000\n",
      "Epoch 44/100\n",
      "711/711 [==============================] - 1s 1ms/step - loss: 0.0192 - accuracy: 0.9989 - val_loss: 0.0123 - val_accuracy: 1.0000\n",
      "Epoch 45/100\n",
      "711/711 [==============================] - 1s 1ms/step - loss: 0.0151 - accuracy: 0.9988 - val_loss: 0.0117 - val_accuracy: 1.0000\n",
      "Epoch 46/100\n",
      "711/711 [==============================] - 1s 1ms/step - loss: 0.0143 - accuracy: 0.9991 - val_loss: 0.0101 - val_accuracy: 1.0000\n",
      "Epoch 47/100\n",
      "711/711 [==============================] - 1s 1ms/step - loss: 0.0117 - accuracy: 0.9998 - val_loss: 0.0093 - val_accuracy: 1.0000\n",
      "Epoch 48/100\n",
      "711/711 [==============================] - 1s 1ms/step - loss: 0.0146 - accuracy: 0.9984 - val_loss: 0.0083 - val_accuracy: 1.0000\n",
      "Epoch 49/100\n",
      "711/711 [==============================] - 1s 1ms/step - loss: 0.0095 - accuracy: 1.0000 - val_loss: 0.0075 - val_accuracy: 1.0000\n",
      "Epoch 50/100\n",
      "711/711 [==============================] - 1s 1ms/step - loss: 0.0169 - accuracy: 0.9981 - val_loss: 0.0075 - val_accuracy: 1.0000\n",
      "Epoch 51/100\n",
      "711/711 [==============================] - 1s 1ms/step - loss: 0.0080 - accuracy: 0.9998 - val_loss: 0.0076 - val_accuracy: 1.0000\n",
      "Epoch 52/100\n",
      "711/711 [==============================] - 1s 1ms/step - loss: 0.0108 - accuracy: 0.9984 - val_loss: 0.0102 - val_accuracy: 0.9986\n",
      "Epoch 53/100\n",
      "711/711 [==============================] - 1s 1ms/step - loss: 0.0071 - accuracy: 1.0000 - val_loss: 0.0060 - val_accuracy: 1.0000\n",
      "Epoch 54/100\n",
      "711/711 [==============================] - 1s 1ms/step - loss: 0.0079 - accuracy: 0.9998 - val_loss: 0.0052 - val_accuracy: 1.0000\n",
      "Epoch 55/100\n",
      "711/711 [==============================] - 1s 1ms/step - loss: 0.0094 - accuracy: 0.9993 - val_loss: 0.0048 - val_accuracy: 1.0000\n",
      "Epoch 56/100\n",
      "711/711 [==============================] - 1s 1ms/step - loss: 0.0095 - accuracy: 0.9981 - val_loss: 0.0041 - val_accuracy: 1.0000\n",
      "Epoch 57/100\n",
      "711/711 [==============================] - 1s 1ms/step - loss: 0.0054 - accuracy: 0.9998 - val_loss: 0.0039 - val_accuracy: 1.0000\n",
      "Epoch 58/100\n",
      "711/711 [==============================] - 1s 1ms/step - loss: 0.0177 - accuracy: 0.9963 - val_loss: 0.0040 - val_accuracy: 1.0000\n",
      "Epoch 59/100\n",
      "711/711 [==============================] - 1s 1ms/step - loss: 0.0040 - accuracy: 1.0000 - val_loss: 0.0046 - val_accuracy: 1.0000\n",
      "Epoch 60/100\n",
      "711/711 [==============================] - 1s 1ms/step - loss: 0.0042 - accuracy: 0.9998 - val_loss: 0.0039 - val_accuracy: 1.0000\n",
      "Epoch 61/100\n",
      "711/711 [==============================] - 1s 1ms/step - loss: 0.0098 - accuracy: 0.9977 - val_loss: 0.0032 - val_accuracy: 1.0000\n",
      "Epoch 62/100\n",
      "711/711 [==============================] - 1s 1ms/step - loss: 0.0039 - accuracy: 1.0000 - val_loss: 0.0037 - val_accuracy: 1.0000\n",
      "Epoch 63/100\n",
      "711/711 [==============================] - 1s 1ms/step - loss: 0.0043 - accuracy: 1.0000 - val_loss: 0.0056 - val_accuracy: 1.0000\n",
      "Epoch 64/100\n",
      "711/711 [==============================] - 1s 1ms/step - loss: 0.0058 - accuracy: 0.9989 - val_loss: 0.0039 - val_accuracy: 1.0000\n",
      "Epoch 65/100\n",
      "711/711 [==============================] - 1s 1ms/step - loss: 0.0042 - accuracy: 0.9998 - val_loss: 0.0313 - val_accuracy: 0.9923\n",
      "Epoch 66/100\n",
      "711/711 [==============================] - 1s 1ms/step - loss: 0.0074 - accuracy: 0.9982 - val_loss: 0.0026 - val_accuracy: 1.0000\n",
      "Epoch 67/100\n",
      "711/711 [==============================] - 1s 1ms/step - loss: 0.0154 - accuracy: 0.9958 - val_loss: 0.0024 - val_accuracy: 1.0000\n",
      "Epoch 68/100\n",
      "711/711 [==============================] - 1s 1ms/step - loss: 0.0025 - accuracy: 1.0000 - val_loss: 0.0023 - val_accuracy: 1.0000\n",
      "Epoch 69/100\n",
      "711/711 [==============================] - 1s 1ms/step - loss: 0.0025 - accuracy: 1.0000 - val_loss: 0.0021 - val_accuracy: 1.0000\n",
      "Epoch 70/100\n",
      "711/711 [==============================] - 1s 1ms/step - loss: 0.0034 - accuracy: 0.9998 - val_loss: 0.0024 - val_accuracy: 1.0000\n",
      "Epoch 71/100\n",
      "711/711 [==============================] - 1s 1ms/step - loss: 0.0075 - accuracy: 0.9986 - val_loss: 0.0020 - val_accuracy: 1.0000\n",
      "Epoch 72/100\n",
      "711/711 [==============================] - 1s 1ms/step - loss: 0.0025 - accuracy: 1.0000 - val_loss: 0.0219 - val_accuracy: 0.9951\n",
      "Epoch 73/100\n",
      "711/711 [==============================] - 1s 1000us/step - loss: 0.0043 - accuracy: 0.9991 - val_loss: 0.0018 - val_accuracy: 1.0000\n",
      "Epoch 74/100\n",
      "711/711 [==============================] - 1s 995us/step - loss: 0.0056 - accuracy: 0.9993 - val_loss: 0.0021 - val_accuracy: 1.0000\n",
      "Epoch 75/100\n",
      "711/711 [==============================] - 1s 1ms/step - loss: 0.0020 - accuracy: 1.0000 - val_loss: 0.0042 - val_accuracy: 1.0000\n",
      "Epoch 76/100\n",
      "711/711 [==============================] - 1s 992us/step - loss: 0.0038 - accuracy: 0.9995 - val_loss: 0.0015 - val_accuracy: 1.0000\n",
      "Epoch 77/100\n",
      "711/711 [==============================] - 1s 989us/step - loss: 0.0018 - accuracy: 1.0000 - val_loss: 0.0015 - val_accuracy: 1.0000\n",
      "Epoch 78/100\n",
      "711/711 [==============================] - 1s 981us/step - loss: 0.0187 - accuracy: 0.9944 - val_loss: 0.0015 - val_accuracy: 1.0000\n",
      "Epoch 79/100\n",
      "711/711 [==============================] - 1s 1ms/step - loss: 0.0015 - accuracy: 1.0000 - val_loss: 0.0015 - val_accuracy: 1.0000\n",
      "Epoch 80/100\n",
      "711/711 [==============================] - 1s 966us/step - loss: 0.0018 - accuracy: 0.9998 - val_loss: 0.0078 - val_accuracy: 0.9979\n",
      "Epoch 81/100\n",
      "711/711 [==============================] - 1s 1ms/step - loss: 0.0063 - accuracy: 0.9988 - val_loss: 0.0013 - val_accuracy: 1.0000\n",
      "Epoch 82/100\n",
      "711/711 [==============================] - 1s 1ms/step - loss: 0.0014 - accuracy: 1.0000 - val_loss: 0.0014 - val_accuracy: 1.0000\n",
      "Epoch 83/100\n",
      "711/711 [==============================] - 1s 1ms/step - loss: 0.0201 - accuracy: 0.9937 - val_loss: 0.0018 - val_accuracy: 1.0000\n",
      "Epoch 84/100\n",
      "711/711 [==============================] - 1s 970us/step - loss: 0.0016 - accuracy: 1.0000 - val_loss: 0.0013 - val_accuracy: 1.0000\n",
      "Epoch 85/100\n",
      "711/711 [==============================] - 1s 1ms/step - loss: 0.0015 - accuracy: 1.0000 - val_loss: 0.0012 - val_accuracy: 1.0000\n",
      "Epoch 86/100\n",
      "711/711 [==============================] - 1s 1ms/step - loss: 0.0014 - accuracy: 1.0000 - val_loss: 0.0011 - val_accuracy: 1.0000\n",
      "Epoch 87/100\n",
      "711/711 [==============================] - 1s 1ms/step - loss: 0.0017 - accuracy: 0.9998 - val_loss: 0.0063 - val_accuracy: 0.9993\n",
      "Epoch 88/100\n",
      "711/711 [==============================] - 1s 986us/step - loss: 0.0104 - accuracy: 0.9974 - val_loss: 0.0013 - val_accuracy: 1.0000\n",
      "Epoch 89/100\n",
      "711/711 [==============================] - 1s 985us/step - loss: 0.0013 - accuracy: 1.0000 - val_loss: 0.0011 - val_accuracy: 1.0000\n",
      "Epoch 90/100\n",
      "711/711 [==============================] - 1s 1ms/step - loss: 0.0013 - accuracy: 1.0000 - val_loss: 0.0011 - val_accuracy: 1.0000\n",
      "Epoch 91/100\n",
      "711/711 [==============================] - 1s 1ms/step - loss: 0.0013 - accuracy: 1.0000 - val_loss: 0.0012 - val_accuracy: 1.0000\n",
      "Epoch 92/100\n",
      "711/711 [==============================] - 1s 976us/step - loss: 0.0071 - accuracy: 0.9982 - val_loss: 0.0019 - val_accuracy: 1.0000\n",
      "Epoch 93/100\n",
      "711/711 [==============================] - 1s 1ms/step - loss: 0.0013 - accuracy: 1.0000 - val_loss: 0.0011 - val_accuracy: 1.0000\n",
      "Epoch 94/100\n",
      "711/711 [==============================] - 1s 1ms/step - loss: 0.0012 - accuracy: 1.0000 - val_loss: 0.0019 - val_accuracy: 1.0000\n",
      "Epoch 95/100\n",
      "711/711 [==============================] - 1s 1ms/step - loss: 0.0038 - accuracy: 0.9988 - val_loss: 8.6359e-04 - val_accuracy: 1.0000\n",
      "Epoch 96/100\n",
      "711/711 [==============================] - 1s 989us/step - loss: 9.4324e-04 - accuracy: 1.0000 - val_loss: 9.4716e-04 - val_accuracy: 1.0000\n",
      "Epoch 97/100\n",
      "711/711 [==============================] - 1s 1ms/step - loss: 9.5945e-04 - accuracy: 1.0000 - val_loss: 0.0011 - val_accuracy: 1.0000\n",
      "Epoch 98/100\n",
      "711/711 [==============================] - 1s 992us/step - loss: 0.0142 - accuracy: 0.9956 - val_loss: 9.8861e-04 - val_accuracy: 1.0000\n",
      "Epoch 99/100\n",
      "711/711 [==============================] - 1s 991us/step - loss: 0.0020 - accuracy: 0.9995 - val_loss: 9.0655e-04 - val_accuracy: 1.0000\n",
      "Epoch 100/100\n",
      "711/711 [==============================] - 1s 982us/step - loss: 0.0021 - accuracy: 0.9996 - val_loss: 7.8137e-04 - val_accuracy: 1.0000\n"
     ]
    }
   ],
   "source": [
    "# Train the model\n",
    "history = model.fit(X_train, y_train, validation_data=(X_val, y_val), epochs=100, batch_size=8)"
   ]
  },
  {
   "cell_type": "markdown",
   "metadata": {},
   "source": [
    "Plotting the loss and accuracy for visualizing the model's performance."
   ]
  },
  {
   "cell_type": "code",
   "execution_count": 346,
   "metadata": {},
   "outputs": [
    {
     "data": {
      "image/png": "[encoded data removed]",
      "text/plain": [
       "<Figure size 640x480 with 1 Axes>"
      ]
     },
     "metadata": {},
     "output_type": "display_data"
    },
    {
     "data": {
      "image/png": "[encoded data removed]",
      "text/plain": [
       "<Figure size 640x480 with 1 Axes>"
      ]
     },
     "metadata": {},
     "output_type": "display_data"
    }
   ],
   "source": [
    "# Plot training and validation loss\n",
    "plt.plot(history.history['loss'], label='Training Loss')\n",
    "plt.plot(history.history['val_loss'], label='Validation Loss')\n",
    "plt.xlabel('Epochs')\n",
    "plt.ylabel('Loss')\n",
    "plt.grid()\n",
    "plt.legend()\n",
    "plt.title('Training and Validation Loss')\n",
    "plt.show()\n",
    "\n",
    "# Plot training and validation accuracy\n",
    "plt.plot(history.history['accuracy'], label='Training Accuracy')\n",
    "plt.plot(history.history['val_accuracy'], label='Validation Accuracy')\n",
    "plt.xlabel('Epochs')\n",
    "plt.ylabel('Accuracy')\n",
    "plt.grid()\n",
    "plt.legend()\n",
    "plt.title('Training and Validation Accuracy')\n",
    "plt.show()"
   ]
  },
  {
   "cell_type": "markdown",
   "metadata": {},
   "source": [
    "Saving the model."
   ]
  },
  {
   "cell_type": "code",
   "execution_count": 347,
   "metadata": {},
   "outputs": [
    {
     "name": "stdout",
     "output_type": "stream",
     "text": [
      "INFO:tensorflow:Assets written to: asl_model\\assets\n"
     ]
    },
    {
     "name": "stderr",
     "output_type": "stream",
     "text": [
      "INFO:tensorflow:Assets written to: asl_model\\assets\n"
     ]
    }
   ],
   "source": [
    "model.save(\"asl_model\")"
   ]
  }
 ],
 "metadata": {
  "kernelspec": {
   "display_name": "Python 3",
   "language": "python",
   "name": "python3"
  },
  "language_info": {
   "codemirror_mode": {
    "name": "ipython",
    "version": 3
   },
   "file_extension": ".py",
   "mimetype": "text/x-python",
   "name": "python",
   "nbconvert_exporter": "python",
   "pygments_lexer": "ipython3",
   "version": "3.11.5"
  }
 },
 "nbformat": 4,
 "nbformat_minor": 2
}
